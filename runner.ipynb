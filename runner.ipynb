{
  "nbformat": 4,
  "nbformat_minor": 0,
  "metadata": {
    "colab": {
      "provenance": [],
      "collapsed_sections": []
    },
    "kernelspec": {
      "name": "python3",
      "display_name": "Python 3"
    },
    "language_info": {
      "name": "python"
    }
  },
  "cells": [
    {
      "cell_type": "code",
      "execution_count": null,
      "metadata": {
        "id": "OyvI7iAlclYu"
      },
      "outputs": [],
      "source": [
        "# !git clone https://github.com/miguelgrinberg/flask-celery-example.git\n",
        "!pip install colab-xterm\n",
        "%load_ext colabxterm"
      ]
    },
    {
      "cell_type": "code",
      "source": [
        "!unzip flask-celery-colab.zip\n",
        "%cd /content/flask-celery-colab"
      ],
      "metadata": {
        "id": "OUe9XFMydCVQ"
      },
      "execution_count": null,
      "outputs": []
    },
    {
      "cell_type": "code",
      "source": [
        "!python3 -m pip install -r ./requirements.txt\n",
        "!chmod u=rwx,g=r,o=r ./run-redis.sh\n",
        "!./run-redis.sh"
      ],
      "metadata": {
        "id": "suJ7E9hodKke"
      },
      "execution_count": null,
      "outputs": []
    },
    {
      "cell_type": "code",
      "source": [
        "%xterm\n",
        "# ./redis-stable/src/redis-server\n",
        "\n",
        "# !ps aux | grep redis\n",
        "# !kill -9 4933"
      ],
      "metadata": {
        "id": "kkf92ENGdWAQ"
      },
      "execution_count": null,
      "outputs": []
    },
    {
      "cell_type": "code",
      "source": [
        "from google.colab.output import eval_js # only in colab\n",
        "print(eval_js(\"google.colab.kernel.proxyPort(8999)\"))"
      ],
      "metadata": {
        "id": "DZUGvvaVhW6T"
      },
      "execution_count": null,
      "outputs": []
    },
    {
      "cell_type": "code",
      "source": [
        "%xterm\n",
        "# !./../flask_venv/bin/celery -A app.celery worker --loglevel=info"
      ],
      "metadata": {
        "id": "VWcxsaACdWrn"
      },
      "execution_count": null,
      "outputs": []
    },
    {
      "cell_type": "code",
      "source": [
        "%xterm\n",
        "# !python app.py"
      ],
      "metadata": {
        "id": "oWvZBZajhjtB"
      },
      "execution_count": null,
      "outputs": []
    },
    {
      "cell_type": "code",
      "source": [
        "''' #*- virtual environment -*#\n",
        "\n",
        "!python3 -m venv flask_venv\n",
        "\n",
        "!wget https://bootstrap.pypa.io/get-pip.py\n",
        "!./flask_venv/bin/python3 get-pip.py\n",
        "!rm get-pip.py\n",
        "\n",
        "!./flask_venv/bin/python3 -m pip list\n",
        "# !rm -r /content/flask_venv\n",
        "\n",
        "%cd /content/flask-celery-example\n",
        "\n",
        "# importlib-metadata==4.13.0\n",
        "# celery==4.4.1\n",
        "!./../flask_venv/bin/python3 -m pip install -r ./requirements.txt\n",
        "\n",
        "'''"
      ],
      "metadata": {
        "id": "q6yAQWGCco0J"
      },
      "execution_count": null,
      "outputs": []
    }
  ]
}